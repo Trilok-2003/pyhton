{
 "cells": [
  {
   "cell_type": "code",
   "execution_count": 1,
   "id": "a5506952-61ea-48dd-a153-007244d9b563",
   "metadata": {},
   "outputs": [
    {
     "name": "stdout",
     "output_type": "stream",
     "text": [
      "Hello, World!\n"
     ]
    }
   ],
   "source": [
    "# 1. Printing a string\n",
    "print(\"Hello, World!\")"
   ]
  },
  {
   "cell_type": "code",
   "execution_count": 2,
   "id": "5fae21a9-b90a-4723-b77a-5f7784b079a6",
   "metadata": {},
   "outputs": [
    {
     "name": "stdout",
     "output_type": "stream",
     "text": [
      "5 8\n"
     ]
    }
   ],
   "source": [
    "# 2. Variable assignment and arithmetic operations\n",
    "x = 5\n",
    "y = x + 3\n",
    "print(x, y)"
   ]
  },
  {
   "cell_type": "code",
   "execution_count": 3,
   "id": "4a98edec-f6fc-43f1-9d6e-eff98acdb4fc",
   "metadata": {},
   "outputs": [
    {
     "name": "stdout",
     "output_type": "stream",
     "text": [
      "Hello, Alice\n"
     ]
    }
   ],
   "source": [
    "# 3. Working with strings\n",
    "name = \"Alice\"\n",
    "print(\"Hello, \" + name)"
   ]
  },
  {
   "cell_type": "code",
   "execution_count": 4,
   "id": "caaf954c-4b47-4e1a-ac84-e4d3356faa2c",
   "metadata": {},
   "outputs": [
    {
     "name": "stdout",
     "output_type": "stream",
     "text": [
      "20\n",
      "5.0\n",
      "5\n",
      "0\n"
     ]
    }
   ],
   "source": [
    "# 4. Basic arithmetic operations\n",
    "a = 10\n",
    "b = 2\n",
    "print(a * b)\n",
    "print(a / b)\n",
    "print(a // b)\n",
    "print(a % b)"
   ]
  },
  {
   "cell_type": "code",
   "execution_count": 5,
   "id": "ddca46ce-bd38-4a1c-9f3b-6dca66b28359",
   "metadata": {},
   "outputs": [
    {
     "name": "stdout",
     "output_type": "stream",
     "text": [
      "3\n"
     ]
    }
   ],
   "source": [
    "# 5. Lists and indexing\n",
    "numbers = [1, 2, 3, 4, 5]\n",
    "print(numbers[2])"
   ]
  },
  {
   "cell_type": "code",
   "execution_count": 6,
   "id": "4d255672-4dfb-4302-a783-cd06207fed17",
   "metadata": {},
   "outputs": [
    {
     "name": "stdout",
     "output_type": "stream",
     "text": [
      "[1, 2, 3, 4, 5, 6]\n"
     ]
    }
   ],
   "source": [
    "# 6. List operations\n",
    "numbers.append(6)\n",
    "print(numbers)"
   ]
  },
  {
   "cell_type": "code",
   "execution_count": 7,
   "id": "ee813189-3871-45f1-b490-99f26fa2cb43",
   "metadata": {},
   "outputs": [
    {
     "name": "stdout",
     "output_type": "stream",
     "text": [
      "0\n",
      "1\n",
      "2\n"
     ]
    }
   ],
   "source": [
    "# 7. Looping through a range\n",
    "for i in range(3):\n",
    "    print(i)"
   ]
  },
  {
   "cell_type": "code",
   "execution_count": 8,
   "id": "ac6c215e-1cc4-4494-9613-4fefc0b9174c",
   "metadata": {},
   "outputs": [
    {
     "name": "stdout",
     "output_type": "stream",
     "text": [
      "Hello, Bob\n"
     ]
    }
   ],
   "source": [
    "# 8. Defining and calling a function\n",
    "def greet(name):\n",
    "    print(\"Hello, \" + name)\n",
    "\n",
    "greet(\"Bob\")"
   ]
  },
  {
   "cell_type": "code",
   "execution_count": 9,
   "id": "b10429c1-3f21-4fbf-aef1-72c055ef2520",
   "metadata": {},
   "outputs": [
    {
     "name": "stdout",
     "output_type": "stream",
     "text": [
      "9\n"
     ]
    }
   ],
   "source": [
    "# 9. Lambda functions\n",
    "sum = lambda x, y: x + y\n",
    "print(sum(4, 5))"
   ]
  },
  {
   "cell_type": "code",
   "execution_count": 10,
   "id": "932da2f3-9020-463d-8fa1-040f554ffd01",
   "metadata": {},
   "outputs": [
    {
     "name": "stdout",
     "output_type": "stream",
     "text": [
      "Eve\n"
     ]
    }
   ],
   "source": [
    "# 10. Dictionaries and accessing values\n",
    "d = {'name': 'Eve', 'age': 30}\n",
    "print(d['name'])"
   ]
  },
  {
   "cell_type": "code",
   "execution_count": 11,
   "id": "b3c11792-c50f-4905-bcfb-ac484dd19e77",
   "metadata": {},
   "outputs": [
    {
     "name": "stdout",
     "output_type": "stream",
     "text": [
      "{'name': 'Eve', 'age': 31}\n"
     ]
    }
   ],
   "source": [
    "# 11. Updating dictionary values\n",
    "d['age'] = 31\n",
    "print(d)"
   ]
  },
  {
   "cell_type": "code",
   "execution_count": 12,
   "id": "00c9e9a8-bc3c-4256-b44c-867a51f8a4db",
   "metadata": {},
   "outputs": [
    {
     "name": "stdout",
     "output_type": "stream",
     "text": [
      "2\n"
     ]
    }
   ],
   "source": [
    "# 12. Tuples and indexing\n",
    "tuple1 = (1, 2, 3)\n",
    "print(tuple1[1])"
   ]
  },
  {
   "cell_type": "code",
   "execution_count": 13,
   "id": "5059377c-2b09-447b-824e-b440d94994e1",
   "metadata": {},
   "outputs": [
    {
     "name": "stdout",
     "output_type": "stream",
     "text": [
      "5 is greater than 3\n"
     ]
    }
   ],
   "source": [
    "# 13. Conditional statements\n",
    "if 5 > 3:\n",
    "    print(\"5 is greater than 3\")"
   ]
  },
  {
   "cell_type": "markdown",
   "id": "6c222356",
   "metadata": {},
   "source": [
    "# Iteration statements"
   ]
  },
  {
   "cell_type": "code",
   "execution_count": 3,
   "id": "25f806a9",
   "metadata": {},
   "outputs": [
    {
     "name": "stdout",
     "output_type": "stream",
     "text": [
      "1\n",
      "2\n",
      "3\n",
      "4\n",
      "5\n"
     ]
    }
   ],
   "source": [
    "#forloop\n",
    "for i in range(1,6):\n",
    "    print(i)"
   ]
  },
  {
   "cell_type": "code",
   "execution_count": 8,
   "id": "95865f51",
   "metadata": {},
   "outputs": [
    {
     "name": "stdout",
     "output_type": "stream",
     "text": [
      "count 0\n",
      "count 1\n",
      "count 2\n"
     ]
    }
   ],
   "source": [
    "#while loop\n",
    "count=0\n",
    "while count<3:\n",
    "    print(\"count\",count)\n",
    "    count+=1"
   ]
  },
  {
   "cell_type": "markdown",
   "id": "78cce731",
   "metadata": {},
   "source": [
    "# code examples"
   ]
  },
  {
   "cell_type": "code",
   "execution_count": 9,
   "id": "0b83eb50",
   "metadata": {},
   "outputs": [
    {
     "name": "stdout",
     "output_type": "stream",
     "text": [
      "enter a number:1\n",
      "odd number\n"
     ]
    }
   ],
   "source": [
    "number=int(input(\"enter a number:\"))\n",
    "if(number%2==0):\n",
    "    print(\"even number\")\n",
    "else:\n",
    "    print(\"odd number\")"
   ]
  },
  {
   "cell_type": "code",
   "execution_count": 11,
   "id": "385519cd",
   "metadata": {},
   "outputs": [
    {
     "name": "stdout",
     "output_type": "stream",
     "text": [
      "enter the length of renctangle:1\n",
      "enter the breadth of rectangle2\n",
      "Area: 2\n"
     ]
    }
   ],
   "source": [
    "length=int(input('enter the length of renctangle:'))\n",
    "breadth=int(input('enter the breadth of rectangle'))\n",
    "rectangle_area=length*breadth\n",
    "print(\"Area:\",rectangle_area)"
   ]
  },
  {
   "cell_type": "code",
   "execution_count": 14,
   "id": "6c39fb11",
   "metadata": {},
   "outputs": [
    {
     "name": "stdout",
     "output_type": "stream",
     "text": [
      "Hello, file!\n"
     ]
    }
   ],
   "source": [
    "\n",
    "with open(\"test.txt\", \"w\") as file:\n",
    "    file.write(\"Hello, file!\")\n",
    "with open(\"test.txt\", \"r\") as file:\n",
    "    content = file.read()\n",
    "    print(content)\n"
   ]
  },
  {
   "cell_type": "code",
   "execution_count": 15,
   "id": "302ddc6c",
   "metadata": {},
   "outputs": [
    {
     "name": "stdout",
     "output_type": "stream",
     "text": [
      "[1, 4, 9, 16]\n"
     ]
    }
   ],
   "source": [
    "\n",
    "numbers = [1, 2, 3, 4]\n",
    "squared_numbers = list(map(lambda x: x**2, numbers))\n",
    "print(squared_numbers)\n"
   ]
  },
  {
   "cell_type": "code",
   "execution_count": 16,
   "id": "6a5344ad",
   "metadata": {},
   "outputs": [
    {
     "name": "stdout",
     "output_type": "stream",
     "text": [
      "[2, 4, 6]\n"
     ]
    }
   ],
   "source": [
    "numbers = [1, 2, 3, 4, 5, 6]\n",
    "even_numbers = list(filter(lambda x: x % 2 == 0, numbers))\n",
    "print(even_numbers)\n"
   ]
  },
  {
   "cell_type": "code",
   "execution_count": null,
   "id": "9d606a96",
   "metadata": {},
   "outputs": [],
   "source": []
  }
 ],
 "metadata": {
  "kernelspec": {
   "display_name": "Python 3 (ipykernel)",
   "language": "python",
   "name": "python3"
  },
  "language_info": {
   "codemirror_mode": {
    "name": "ipython",
    "version": 3
   },
   "file_extension": ".py",
   "mimetype": "text/x-python",
   "name": "python",
   "nbconvert_exporter": "python",
   "pygments_lexer": "ipython3",
   "version": "3.11.7"
  }
 },
 "nbformat": 4,
 "nbformat_minor": 5
}
